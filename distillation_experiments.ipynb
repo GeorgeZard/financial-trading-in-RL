{
 "cells": [
  {
   "cell_type": "code",
   "execution_count": null,
   "metadata": {},
   "outputs": [],
   "source": [
    "%conda update -n base -c defaults conda\n",
    "%conda install pytables"
   ]
  },
  {
   "cell_type": "code",
   "execution_count": 1,
   "metadata": {},
   "outputs": [
    {
     "name": "stdout",
     "output_type": "stream",
     "text": [
      "c:\\Users\\georg\\Source\\Github\\Thesis\\financial-trading-in-RL-setup-master\n"
     ]
    }
   ],
   "source": [
    "from pathlib import Path\n",
    "%cd \"C:\\Users\\georg\\Source\\Github\\Thesis\\financial-trading-in-RL-setup-master\"\n"
   ]
  },
  {
   "cell_type": "code",
   "execution_count": 2,
   "metadata": {},
   "outputs": [],
   "source": [
    "import random\n",
    "\n",
    "from tsrl.environments import generate_candle_features\n",
    "from tsrl.experiments.market.experiment_no_distillation import MarketExperiment1\n",
    "from tsrl.experiments.market.experiment_offline_dist import MarketExperiment2\n",
    "from tsrl.experiments.market.experiment_online_dist import MarketExperiment3\n",
    "from tsrl.experiments.market.experiment_online_pkt import MarketExperiment4\n",
    "from tsrl.experiments.market.experiment_offline_pkt import MarketExperiment5\n",
    "from tsrl.experiments.market.experiment_pkt_logit_dist import MarketExperiment6\n",
    "from tsrl.experiments.market.experiment_new_online_dist import MarketExperiment7\n",
    "from plotly.graph_objs import *\n",
    "import csv\n",
    "\n",
    "from pathlib import Path\n",
    "from plotly import graph_objects as go\n",
    "import numpy as np\n",
    "import matplotlib.pyplot as plt\n",
    "import seaborn as sns\n",
    "import pandas as pd\n",
    "from torch.utils.data import Dataset, DataLoader\n",
    "from fin_utils.candles.labels import construct_labels\n",
    "import Visualizations\n",
    "from  train_rl_experiments_distillation import get_data\n",
    "\n",
    "# Add this 2 lines of commands\n",
    "import os\n",
    "import warnings\n",
    "warnings.filterwarnings('ignore')\n",
    "os.environ[\"KMP_DUPLICATE_LIB_OK\"]=\"TRUE\"\n",
    "\n",
    "PATH_EXPERIMENTS = 'saved_models_experiments/'\n",
    "\n",
    "PATH_FIGURES = 'experiments_figures/'\n",
    "\n",
    "PATH_DISTILLATION_NAMES = ['no_distillation/', 'offline_distillation2/', 'online_distillation/', 'online_pkt/', 'online_pkt_logits/', 'others/', 'offline_pkt/']\n",
    "\n",
    "# PATH_EXPERIMENTS = 'saved_models_experiments_for_early_training/'\n",
    "# PATH_FIGURES = 'experiments_figures_for_early_training/'\n",
    "\n",
    "VISUALIZATIONS = Visualizations"
   ]
  },
  {
   "cell_type": "code",
   "execution_count": 4,
   "metadata": {},
   "outputs": [
    {
     "ename": "FileNotFoundError",
     "evalue": "``C:\\Users\\georg\\Source\\Github\\Thesis\\minute_binance\\BTCUSDT_minutes.hdf5`` does not exist",
     "output_type": "error",
     "traceback": [
      "\u001b[1;31m---------------------------------------------------------------------------\u001b[0m",
      "\u001b[1;31mFileNotFoundError\u001b[0m                         Traceback (most recent call last)",
      "Cell \u001b[1;32mIn[4], line 2\u001b[0m\n\u001b[0;32m      1\u001b[0m coin_list \u001b[39m=\u001b[39m [\u001b[39m'\u001b[39m\u001b[39mBTCUSDT\u001b[39m\u001b[39m'\u001b[39m]\n\u001b[1;32m----> 2\u001b[0m data, coin_list_size \u001b[39m=\u001b[39m get_data(coin_list)\n",
      "File \u001b[1;32mc:\\Users\\georg\\Source\\Github\\Thesis\\financial-trading-in-RL-setup-master\\train_rl_experiments_distillation.py:1271\u001b[0m, in \u001b[0;36mget_data\u001b[1;34m(coin_list)\u001b[0m\n\u001b[0;32m   1265\u001b[0m train_end \u001b[39m=\u001b[39m \u001b[39m\"\u001b[39m\u001b[39m2021-03-14\u001b[39m\u001b[39m\"\u001b[39m\n\u001b[0;32m   1267\u001b[0m \u001b[39m\u001b[39m\u001b[39m\"\"\"\u001b[39;00m\n\u001b[0;32m   1268\u001b[0m \u001b[39mData is a dictionary for each asset  with keys: \u001b[39;00m\n\u001b[0;32m   1269\u001b[0m \u001b[39m['asset_index', 'candle_dict', 'feature_dict', 'candle_df_dict']\u001b[39;00m\n\u001b[0;32m   1270\u001b[0m \u001b[39m\"\"\"\u001b[39;00m\n\u001b[1;32m-> 1271\u001b[0m data, coin_list_size \u001b[39m=\u001b[39m generate_candle_features(train_end\u001b[39m=\u001b[39;49mtrain_end,\n\u001b[0;32m   1272\u001b[0m                                 pairs\u001b[39m=\u001b[39;49mcoin_list,\n\u001b[0;32m   1273\u001b[0m                                 feather_folder\u001b[39m=\u001b[39;49mPATH_TO_FEATHER,\n\u001b[0;32m   1274\u001b[0m                                 timescale\u001b[39m=\u001b[39;49mresample,\n\u001b[0;32m   1275\u001b[0m                                 feature_config\u001b[39m=\u001b[39;49m(\n\u001b[0;32m   1276\u001b[0m                                     \u001b[39m# basic features\u001b[39;49;00m\n\u001b[0;32m   1277\u001b[0m                                     \u001b[39mdict\u001b[39;49m(name\u001b[39m=\u001b[39;49m\u001b[39m'\u001b[39;49m\u001b[39mint_bar_changes\u001b[39;49m\u001b[39m'\u001b[39;49m, func_name\u001b[39m=\u001b[39;49m\u001b[39m'\u001b[39;49m\u001b[39minter_bar_changes\u001b[39;49m\u001b[39m'\u001b[39;49m,\n\u001b[0;32m   1278\u001b[0m                                          columns\u001b[39m=\u001b[39;49m[\u001b[39m'\u001b[39;49m\u001b[39mclose\u001b[39;49m\u001b[39m'\u001b[39;49m, \u001b[39m'\u001b[39;49m\u001b[39mhigh\u001b[39;49m\u001b[39m'\u001b[39;49m, \u001b[39m'\u001b[39;49m\u001b[39mlow\u001b[39;49m\u001b[39m'\u001b[39;49m],\n\u001b[0;32m   1279\u001b[0m                                          use_pct\u001b[39m=\u001b[39;49m\u001b[39mTrue\u001b[39;49;00m),\n\u001b[0;32m   1280\u001b[0m                                     \u001b[39mdict\u001b[39;49m(name\u001b[39m=\u001b[39;49m\u001b[39m'\u001b[39;49m\u001b[39mint_bar_changes_10\u001b[39;49m\u001b[39m'\u001b[39;49m, func_name\u001b[39m=\u001b[39;49m\u001b[39m'\u001b[39;49m\u001b[39minter_bar_changes\u001b[39;49m\u001b[39m'\u001b[39;49m,\n\u001b[0;32m   1281\u001b[0m                                          columns\u001b[39m=\u001b[39;49m[\u001b[39m'\u001b[39;49m\u001b[39mclose\u001b[39;49m\u001b[39m'\u001b[39;49m, \u001b[39m'\u001b[39;49m\u001b[39mhigh\u001b[39;49m\u001b[39m'\u001b[39;49m, \u001b[39m'\u001b[39;49m\u001b[39mlow\u001b[39;49m\u001b[39m'\u001b[39;49m], use_pct\u001b[39m=\u001b[39;49m\u001b[39mTrue\u001b[39;49;00m,\n\u001b[0;32m   1282\u001b[0m                                          smoothing_window\u001b[39m=\u001b[39;49m\u001b[39m10\u001b[39;49m),\n\u001b[0;32m   1283\u001b[0m                                     \u001b[39mdict\u001b[39;49m(func_name\u001b[39m=\u001b[39;49m\u001b[39m'\u001b[39;49m\u001b[39mhl_to_pclose\u001b[39;49m\u001b[39m'\u001b[39;49m),\n\u001b[0;32m   1284\u001b[0m                                     \u001b[39m# dict(func_name='next_return'),  # this is a cheat feature, to test we can learn\u001b[39;49;00m\n\u001b[0;32m   1285\u001b[0m                                 ))\n\u001b[0;32m   1286\u001b[0m \u001b[39mprint\u001b[39m(data[\u001b[39m'\u001b[39m\u001b[39mcandle_df_dict\u001b[39m\u001b[39m'\u001b[39m][\u001b[39m'\u001b[39m\u001b[39mBTCUSDT\u001b[39m\u001b[39m'\u001b[39m])\n\u001b[0;32m   1287\u001b[0m \u001b[39m# fig = go.FigureWidget()\u001b[39;00m\n\u001b[0;32m   1288\u001b[0m \u001b[39m# for i, asset in enumerate(data['candle_df_dict']):\u001b[39;00m\n\u001b[0;32m   1289\u001b[0m \u001b[39m#     fig.add_scatter(x=data['candle_df_dict'][asset].index, y=data['candle_df_dict'][asset]['close'], name=asset)\u001b[39;00m\n\u001b[0;32m   1290\u001b[0m \u001b[39m# fig.show()\u001b[39;00m\n\u001b[0;32m   1291\u001b[0m \u001b[39m# #print(data['candle_df_dict']['BTCUSDT'])\u001b[39;00m\n",
      "File \u001b[1;32mc:\\Users\\georg\\Source\\Github\\Thesis\\financial-trading-in-RL-setup-master\\tsrl\\environments\\__init__.py:91\u001b[0m, in \u001b[0;36mgenerate_candle_features\u001b[1;34m(train_end, timescale, pairs, keep_dfs, feather_folder, feature_config)\u001b[0m\n\u001b[0;32m     89\u001b[0m candle_dict \u001b[39m=\u001b[39m {}\n\u001b[0;32m     90\u001b[0m \u001b[39mfor\u001b[39;00m pair \u001b[39min\u001b[39;00m pairs:\n\u001b[1;32m---> 91\u001b[0m     df \u001b[39m=\u001b[39m resample_bars(timescale, pair, feather_folder)\n\u001b[0;32m     92\u001b[0m \u001b[39m    \u001b[39m\u001b[39m\"\"\"\u001b[39;00m\n\u001b[0;32m     93\u001b[0m \u001b[39m    Check if training period is at least 2 years\u001b[39;00m\n\u001b[0;32m     94\u001b[0m \u001b[39m    \"\"\"\u001b[39;00m\n\u001b[0;32m     95\u001b[0m     starting_date \u001b[39m=\u001b[39m \u001b[39mstr\u001b[39m(df\u001b[39m.\u001b[39mindex[\u001b[39m0\u001b[39m])\n",
      "File \u001b[1;32mc:\\Users\\georg\\Source\\Github\\Thesis\\financial-trading-in-RL-setup-master\\tsrl\\environments\\__init__.py:17\u001b[0m, in \u001b[0;36mresample_bars\u001b[1;34m(period, symbol, path, base, field_to_use, variable, start_time, end_time)\u001b[0m\n\u001b[0;32m     15\u001b[0m \u001b[39mif\u001b[39;00m field_to_use \u001b[39m==\u001b[39m \u001b[39m'\u001b[39m\u001b[39mtrade\u001b[39m\u001b[39m'\u001b[39m:\n\u001b[0;32m     16\u001b[0m     what_to_use \u001b[39m=\u001b[39m \u001b[39m'\u001b[39m\u001b[39m'\u001b[39m\n\u001b[1;32m---> 17\u001b[0m store \u001b[39m=\u001b[39m pd\u001b[39m.\u001b[39;49mHDFStore(\u001b[39mf\u001b[39;49m\u001b[39m'\u001b[39;49m\u001b[39m{\u001b[39;49;00mpath\u001b[39m}\u001b[39;49;00m\u001b[39m{\u001b[39;49;00msymbol\u001b[39m}\u001b[39;49;00m\u001b[39m_minutes\u001b[39;49m\u001b[39m{\u001b[39;49;00mwhat_to_use\u001b[39m}\u001b[39;49;00m\u001b[39m.hdf5\u001b[39;49m\u001b[39m'\u001b[39;49m, mode\u001b[39m=\u001b[39;49m\u001b[39m'\u001b[39;49m\u001b[39mr\u001b[39;49m\u001b[39m'\u001b[39;49m)\n\u001b[0;32m     18\u001b[0m bars \u001b[39m=\u001b[39m store[symbol]\n\u001b[0;32m     19\u001b[0m store\u001b[39m.\u001b[39mclose()\n",
      "File \u001b[1;32mc:\\ProgramData\\miniconda3\\envs\\myenv\\lib\\site-packages\\pandas\\io\\pytables.py:579\u001b[0m, in \u001b[0;36mHDFStore.__init__\u001b[1;34m(self, path, mode, complevel, complib, fletcher32, **kwargs)\u001b[0m\n\u001b[0;32m    577\u001b[0m \u001b[39mself\u001b[39m\u001b[39m.\u001b[39m_fletcher32 \u001b[39m=\u001b[39m fletcher32\n\u001b[0;32m    578\u001b[0m \u001b[39mself\u001b[39m\u001b[39m.\u001b[39m_filters \u001b[39m=\u001b[39m \u001b[39mNone\u001b[39;00m\n\u001b[1;32m--> 579\u001b[0m \u001b[39mself\u001b[39;49m\u001b[39m.\u001b[39;49mopen(mode\u001b[39m=\u001b[39;49mmode, \u001b[39m*\u001b[39;49m\u001b[39m*\u001b[39;49mkwargs)\n",
      "File \u001b[1;32mc:\\ProgramData\\miniconda3\\envs\\myenv\\lib\\site-packages\\pandas\\io\\pytables.py:731\u001b[0m, in \u001b[0;36mHDFStore.open\u001b[1;34m(self, mode, **kwargs)\u001b[0m\n\u001b[0;32m    725\u001b[0m     msg \u001b[39m=\u001b[39m (\n\u001b[0;32m    726\u001b[0m         \u001b[39m\"\u001b[39m\u001b[39mCannot open HDF5 file, which is already opened, \u001b[39m\u001b[39m\"\u001b[39m\n\u001b[0;32m    727\u001b[0m         \u001b[39m\"\u001b[39m\u001b[39meven in read-only mode.\u001b[39m\u001b[39m\"\u001b[39m\n\u001b[0;32m    728\u001b[0m     )\n\u001b[0;32m    729\u001b[0m     \u001b[39mraise\u001b[39;00m \u001b[39mValueError\u001b[39;00m(msg)\n\u001b[1;32m--> 731\u001b[0m \u001b[39mself\u001b[39m\u001b[39m.\u001b[39m_handle \u001b[39m=\u001b[39m tables\u001b[39m.\u001b[39;49mopen_file(\u001b[39mself\u001b[39;49m\u001b[39m.\u001b[39;49m_path, \u001b[39mself\u001b[39;49m\u001b[39m.\u001b[39;49m_mode, \u001b[39m*\u001b[39;49m\u001b[39m*\u001b[39;49mkwargs)\n",
      "File \u001b[1;32mc:\\ProgramData\\miniconda3\\envs\\myenv\\lib\\site-packages\\tables\\file.py:300\u001b[0m, in \u001b[0;36mopen_file\u001b[1;34m(filename, mode, title, root_uep, filters, **kwargs)\u001b[0m\n\u001b[0;32m    295\u001b[0m             \u001b[39mraise\u001b[39;00m \u001b[39mValueError\u001b[39;00m(\n\u001b[0;32m    296\u001b[0m                 \u001b[39m\"\u001b[39m\u001b[39mThe file \u001b[39m\u001b[39m'\u001b[39m\u001b[39m%s\u001b[39;00m\u001b[39m'\u001b[39m\u001b[39m is already opened.  Please \u001b[39m\u001b[39m\"\u001b[39m\n\u001b[0;32m    297\u001b[0m                 \u001b[39m\"\u001b[39m\u001b[39mclose it before reopening in write mode.\u001b[39m\u001b[39m\"\u001b[39m \u001b[39m%\u001b[39m filename)\n\u001b[0;32m    299\u001b[0m \u001b[39m# Finally, create the File instance, and return it\u001b[39;00m\n\u001b[1;32m--> 300\u001b[0m \u001b[39mreturn\u001b[39;00m File(filename, mode, title, root_uep, filters, \u001b[39m*\u001b[39;49m\u001b[39m*\u001b[39;49mkwargs)\n",
      "File \u001b[1;32mc:\\ProgramData\\miniconda3\\envs\\myenv\\lib\\site-packages\\tables\\file.py:750\u001b[0m, in \u001b[0;36mFile.__init__\u001b[1;34m(self, filename, mode, title, root_uep, filters, **kwargs)\u001b[0m\n\u001b[0;32m    747\u001b[0m \u001b[39mself\u001b[39m\u001b[39m.\u001b[39mparams \u001b[39m=\u001b[39m params\n\u001b[0;32m    749\u001b[0m \u001b[39m# Now, it is time to initialize the File extension\u001b[39;00m\n\u001b[1;32m--> 750\u001b[0m \u001b[39mself\u001b[39;49m\u001b[39m.\u001b[39;49m_g_new(filename, mode, \u001b[39m*\u001b[39;49m\u001b[39m*\u001b[39;49mparams)\n\u001b[0;32m    752\u001b[0m \u001b[39m# Check filters and set PyTables format version for new files.\u001b[39;00m\n\u001b[0;32m    753\u001b[0m new \u001b[39m=\u001b[39m \u001b[39mself\u001b[39m\u001b[39m.\u001b[39m_v_new\n",
      "File \u001b[1;32mc:\\ProgramData\\miniconda3\\envs\\myenv\\lib\\site-packages\\tables\\hdf5extension.pyx:366\u001b[0m, in \u001b[0;36mtables.hdf5extension.File._g_new\u001b[1;34m()\u001b[0m\n",
      "File \u001b[1;32mc:\\ProgramData\\miniconda3\\envs\\myenv\\lib\\site-packages\\tables\\utils.py:143\u001b[0m, in \u001b[0;36mcheck_file_access\u001b[1;34m(filename, mode)\u001b[0m\n\u001b[0;32m    140\u001b[0m \u001b[39mif\u001b[39;00m mode \u001b[39m==\u001b[39m \u001b[39m'\u001b[39m\u001b[39mr\u001b[39m\u001b[39m'\u001b[39m:\n\u001b[0;32m    141\u001b[0m     \u001b[39m# The file should be readable.\u001b[39;00m\n\u001b[0;32m    142\u001b[0m     \u001b[39mif\u001b[39;00m \u001b[39mnot\u001b[39;00m os\u001b[39m.\u001b[39maccess(path, os\u001b[39m.\u001b[39mF_OK):\n\u001b[1;32m--> 143\u001b[0m         \u001b[39mraise\u001b[39;00m \u001b[39mFileNotFoundError\u001b[39;00m(\u001b[39mf\u001b[39m\u001b[39m\"\u001b[39m\u001b[39m``\u001b[39m\u001b[39m{\u001b[39;00mpath\u001b[39m}\u001b[39;00m\u001b[39m`` does not exist\u001b[39m\u001b[39m\"\u001b[39m)\n\u001b[0;32m    144\u001b[0m     \u001b[39mif\u001b[39;00m \u001b[39mnot\u001b[39;00m path\u001b[39m.\u001b[39mis_file():\n\u001b[0;32m    145\u001b[0m         \u001b[39mraise\u001b[39;00m \u001b[39mIsADirectoryError\u001b[39;00m(\u001b[39mf\u001b[39m\u001b[39m\"\u001b[39m\u001b[39m``\u001b[39m\u001b[39m{\u001b[39;00mpath\u001b[39m}\u001b[39;00m\u001b[39m`` is not a regular file\u001b[39m\u001b[39m\"\u001b[39m)\n",
      "\u001b[1;31mFileNotFoundError\u001b[0m: ``C:\\Users\\georg\\Source\\Github\\Thesis\\minute_binance\\BTCUSDT_minutes.hdf5`` does not exist"
     ]
    }
   ],
   "source": [
    "coin_list = ['BTCUSDT']\n",
    "data, coin_list_size = get_data(coin_list)"
   ]
  }
 ],
 "metadata": {
  "kernelspec": {
   "display_name": "myenv",
   "language": "python",
   "name": "python3"
  },
  "language_info": {
   "codemirror_mode": {
    "name": "ipython",
    "version": 3
   },
   "file_extension": ".py",
   "mimetype": "text/x-python",
   "name": "python",
   "nbconvert_exporter": "python",
   "pygments_lexer": "ipython3",
   "version": "3.8.17"
  },
  "orig_nbformat": 4
 },
 "nbformat": 4,
 "nbformat_minor": 2
}
